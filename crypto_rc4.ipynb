{
 "cells": [
  {
   "cell_type": "markdown",
   "id": "68b18678-7a5b-413e-852f-0c496f918dde",
   "metadata": {},
   "source": [
    "# Programming Assignment 1\n",
    "**Hovhannes Sukiasyan**  \n",
    "**AUA ID:** A09200262\n",
    "\n",
    "---\n",
    "\n",
    "## Introduction\n",
    "Here is the implementation of RC4 encryption algorithm. The RC4 algorithm consists of two main parts: the key-scheduling algorithm (KSA) and the pseudo-random generation algorithm (PRGA). This notebook demonstrates encryption and decryption using RC4 with a given key and plaintext.\n"
   ]
  },
  {
   "cell_type": "markdown",
   "id": "4de76e13-84d4-49ff-9ccd-2fd2750e24cc",
   "metadata": {},
   "source": [
    "## Key-Scheduling Algorithm (KSA)\n",
    "The KSA initializes the permutation in the array `S`. It mixes the key into the array.\n"
   ]
  },
  {
   "cell_type": "code",
   "execution_count": 1,
   "id": "b3541f3a-9ee4-462a-849f-672f4d5704a0",
   "metadata": {},
   "outputs": [],
   "source": [
    "def ksa(key):\n",
    "    key_length = len(key)\n",
    "    S = list(range(256))\n",
    "    j = 0\n",
    "    for i in range(256):\n",
    "        j = (j + S[i] + key[i % key_length]) % 256\n",
    "        S[i], S[j] = S[j], S[i]\n",
    "    return S\n"
   ]
  },
  {
   "cell_type": "markdown",
   "id": "4bf467cb-fac0-4172-a9c5-3d13bc29a87d",
   "metadata": {},
   "source": [
    "## Pseudo-Random Generation Algorithm (PRGA)\n",
    "The PRGA generates a key stream that will be used to encrypt the plaintext by XORing it with the generated stream.\n"
   ]
  },
  {
   "cell_type": "code",
   "execution_count": 2,
   "id": "97a980d7-bf8d-4fff-bd20-0ec91ab7355b",
   "metadata": {},
   "outputs": [],
   "source": [
    "def prga(S, n):\n",
    "    i = 0\n",
    "    j = 0\n",
    "    key_stream = []\n",
    "\n",
    "    while n > 0:\n",
    "        i = (i + 1) % 256\n",
    "        j = (j + S[i]) % 256\n",
    "        S[i], S[j] = S[j], S[i]\n",
    "        K = S[(S[i] + S[j]) % 256]\n",
    "        key_stream.append(K)\n",
    "        n -= 1\n",
    "\n",
    "    return key_stream\n"
   ]
  },
  {
   "cell_type": "markdown",
   "id": "ba236042-4261-4c6f-8375-bf9416a73715",
   "metadata": {},
   "source": [
    "## RC4 Encryption and Decryption\n",
    "This function combines the KSA and PRGA to encrypt and decrypt the provided message.\n"
   ]
  },
  {
   "cell_type": "code",
   "execution_count": 3,
   "id": "ebc6e3f3-589b-44a0-8ce4-dcec1b93b33a",
   "metadata": {},
   "outputs": [],
   "source": [
    "def rc4(key, plaintext):\n",
    "    S = ksa(key)\n",
    "    prga(S, 1000)\n",
    "    key_stream = prga(S, len(plaintext))\n",
    "    return [plain_byte ^ ks_byte for plain_byte, ks_byte in zip(plaintext, key_stream)]\n"
   ]
  },
  {
   "cell_type": "markdown",
   "id": "8d94497b-dbf1-4b30-a1b6-cc81f7ee02ef",
   "metadata": {},
   "source": [
    "## Main Function\n",
    "This part demonstrates the usage of the RC4 algorithm. It takes a key and plaintext, encrypts the message, and then decrypts it to verify the correctness of the algorithm.\n"
   ]
  },
  {
   "cell_type": "code",
   "execution_count": 4,
   "id": "f8e72b98-5c4f-4f64-8e25-ff0910799f8d",
   "metadata": {},
   "outputs": [
    {
     "name": "stdout",
     "output_type": "stream",
     "text": [
      "Encrypted Message: ['e1', '40', 'ea', '7a', 'f8', '04', '01', 'd6', '26', 'fb']\n",
      "Decrypted Message: hetaqrqire\n"
     ]
    }
   ],
   "source": [
    "def main():\n",
    "    key = [int(hex(ord(char)), 16) for char in \"exampleKey\"]\n",
    "    plaintext = [int(hex(ord(char)), 16) for char in \"hetaqrqire\"]\n",
    "\n",
    "    encrypted_text = rc4(key, plaintext)\n",
    "    print(\"Encrypted Message:\", [hex(val)[2:].zfill(2) for val in encrypted_text])\n",
    "\n",
    "    decrypted_text = rc4(key, encrypted_text)\n",
    "    print(\"Decrypted Message:\", ''.join(chr(val) for val in decrypted_text))\n",
    "\n",
    "if __name__ == \"__main__\":\n",
    "    main()\n"
   ]
  },
  {
   "cell_type": "markdown",
   "id": "83dfd875-7c8d-499f-ae86-fde6fb3db161",
   "metadata": {},
   "source": [
    "## Conclusion\n",
    "In this assignment, I implemented the RC4 stream cipher algorithm and demonstrated encryption and decryption using a key and plaintext. The algorithm was shown to work correctly by successfully decrypting the message back to its original form.\n"
   ]
  }
 ],
 "metadata": {
  "kernelspec": {
   "display_name": "Python 3 (ipykernel)",
   "language": "python",
   "name": "python3"
  },
  "language_info": {
   "codemirror_mode": {
    "name": "ipython",
    "version": 3
   },
   "file_extension": ".py",
   "mimetype": "text/x-python",
   "name": "python",
   "nbconvert_exporter": "python",
   "pygments_lexer": "ipython3",
   "version": "3.11.4"
  }
 },
 "nbformat": 4,
 "nbformat_minor": 5
}
